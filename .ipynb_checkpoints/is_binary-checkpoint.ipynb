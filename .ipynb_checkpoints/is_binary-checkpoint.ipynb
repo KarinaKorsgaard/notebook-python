{
 "cells": [
  {
   "cell_type": "code",
   "execution_count": 2,
   "metadata": {},
   "outputs": [
    {
     "name": "stdout",
     "output_type": "stream",
     "text": [
      "False\n",
      "False\n",
      "True\n",
      "False\n",
      "False\n",
      "False\n",
      "False\n",
      "False\n",
      "True\n"
     ]
    }
   ],
   "source": [
    "def is_binary_operation(X):\n",
    "    #check that the input X is a list\n",
    "    if not isinstance(X, list):\n",
    "        return False\n",
    "    \n",
    "    X_length = len(X)\n",
    "    \n",
    "    #check that each element, x, in the list X is a list\n",
    "    if not all(isinstance(x, list) for x in X):\n",
    "        return False\n",
    "    \n",
    "    #check that each element, x, in the list X is same length as X\n",
    "    if not all(len(x) == X_length for x in X):\n",
    "        return False\n",
    "    \n",
    "    # check that each element in the sublist x is integer\n",
    "    if not all(isinstance(i, int) for x in X for i in x):\n",
    "        return False\n",
    "          \n",
    "    # check that each element in the sublist is between 0 and n-1\n",
    "    if not all(X_length > i > -1 for x in X for i in x):\n",
    "            return False\n",
    "    \n",
    "    return True\n",
    "        \n",
    "                  \n",
    "a = \"banana\"\n",
    "b = [[\"a\", \"b\", \"c\"], [\"b\", \"c\", \"a\"], [\"c\", \"b\", \"a\"]]\n",
    "c = [[0, 1, 1, 3], [3, 2, 1, 1], [3, 3, 0, 3], [0, 3, 0, 3]] # true\n",
    "d = [[1, 1, 0], [1, 1], [0, 1, 1]]\n",
    "e = [[1, 1, 2], [2, 3, 1], [0, 0, 1]]\n",
    "f = [[1, 1, 2, 1], [2, 3, 1, 3], [0, 0, 1, 0], [0, 0, 1, 0], [1, 2, 3, 0]]\n",
    "g = [1, 1, 0, 0, 1, 2, 1, 2, 2]\n",
    "h = [[1, 1, 2],[0, 1, 1, [1, 1, 0]]]\n",
    "i = [[1, 0, 1], [0, 0, 1], [0, 1, 2]] # true\n",
    "\n",
    "print(is_binary_operation(a))\n",
    "print(is_binary_operation(b))\n",
    "print(is_binary_operation(c))\n",
    "print(is_binary_operation(d))\n",
    "print(is_binary_operation(e))\n",
    "print(is_binary_operation(f))\n",
    "print(is_binary_operation(g))\n",
    "print(is_binary_operation(h))\n",
    "print(is_binary_operation(i))"
   ]
  },
  {
   "cell_type": "code",
   "execution_count": null,
   "metadata": {},
   "outputs": [],
   "source": []
  },
  {
   "cell_type": "code",
   "execution_count": null,
   "metadata": {},
   "outputs": [],
   "source": []
  },
  {
   "cell_type": "code",
   "execution_count": null,
   "metadata": {},
   "outputs": [],
   "source": []
  }
 ],
 "metadata": {
  "kernelspec": {
   "display_name": "Python 3",
   "language": "python",
   "name": "python3"
  },
  "language_info": {
   "codemirror_mode": {
    "name": "ipython",
    "version": 3
   },
   "file_extension": ".py",
   "mimetype": "text/x-python",
   "name": "python",
   "nbconvert_exporter": "python",
   "pygments_lexer": "ipython3",
   "version": "3.7.5"
  }
 },
 "nbformat": 4,
 "nbformat_minor": 4
}
